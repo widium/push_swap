{
 "cells": [
  {
   "cell_type": "code",
   "execution_count": 3,
   "metadata": {},
   "outputs": [],
   "source": [
    "import numpy as np\n",
    "import math\n",
    "import matplotlib.pyplot as plt"
   ]
  },
  {
   "cell_type": "code",
   "execution_count": 4,
   "metadata": {},
   "outputs": [
    {
     "data": {
      "image/png": "[encoded data removed]",
      "text/plain": [
       "<Figure size 432x288 with 1 Axes>"
      ]
     },
     "metadata": {
      "needs_background": "light"
     },
     "output_type": "display_data"
    }
   ],
   "source": [
    "plt.hist(np.array([302, 354, 822, 289, 315]), bins=10)\n",
    "plt.show()"
   ]
  },
  {
   "cell_type": "code",
   "execution_count": 4,
   "metadata": {},
   "outputs": [
    {
     "data": {
      "text/plain": [
       "4.0"
      ]
     },
     "execution_count": 4,
     "metadata": {},
     "output_type": "execute_result"
    }
   ],
   "source": [
    "A = np.array([3, 4, 5, 7, 12, 19, 26])\n",
    "\n",
    "B = math.sqrt(100) / 2.5\n",
    "B"
   ]
  },
  {
   "cell_type": "code",
   "execution_count": 3,
   "metadata": {},
   "outputs": [
    {
     "name": "stdout",
     "output_type": "stream",
     "text": [
      "4.47213595499958\n"
     ]
    }
   ],
   "source": [
    "\n",
    "print(math.sqrt(20))\n"
   ]
  },
  {
   "cell_type": "code",
   "execution_count": 8,
   "metadata": {},
   "outputs": [
    {
     "data": {
      "text/plain": [
       "4.0"
      ]
     },
     "execution_count": 8,
     "metadata": {},
     "output_type": "execute_result"
    }
   ],
   "source": [
    "int\tft_sqrt(int nb)\n",
    "{\n",
    "\tint\tsqrt;\n",
    "\n",
    "\tif (nb < 0)\n",
    "\t\treturn (0);\n",
    "\tsqrt = 1;\n",
    "\twhile (sqrt * sqrt < nb)\n",
    "\t\t++sqrt;\n",
    "\tif (sqrt * sqrt == nb)\n",
    "\t\treturn (sqrt);\n",
    "\treturn (0);\n",
    "}\n",
    "    \n",
    "    "
   ]
  },
  {
   "cell_type": "code",
   "execution_count": 4,
   "metadata": {},
   "outputs": [
    {
     "name": "stdout",
     "output_type": "stream",
     "text": [
      "Calcul -> (%d) 4\n",
      "2\n",
      "Calcul -> (%d) 9\n",
      "3\n",
      "Calcul -> (%d) 16\n",
      "4\n"
     ]
    }
   ],
   "source": [
    "nb = 16\n",
    "sqrt = 1\n",
    "\n",
    "while (sqrt * sqrt < nb):\n",
    "    sqrt += 1\n",
    "    print(\"Calcul -> (%d)\", sqrt * sqrt)\n",
    "    print(sqrt)\n"
   ]
  },
  {
   "cell_type": "code",
   "execution_count": null,
   "metadata": {},
   "outputs": [],
   "source": []
  }
 ],
 "metadata": {
  "interpreter": {
   "hash": "6315a4a83cd9c0651c1847806ea4528007a9e25071dc41670372a3afb3757f99"
  },
  "kernelspec": {
   "display_name": "Python 3.8.0 ('tf_gpu')",
   "language": "python",
   "name": "python3"
  },
  "language_info": {
   "codemirror_mode": {
    "name": "ipython",
    "version": 3
   },
   "file_extension": ".py",
   "mimetype": "text/x-python",
   "name": "python",
   "nbconvert_exporter": "python",
   "pygments_lexer": "ipython3",
   "version": "3.8.0"
  },
  "orig_nbformat": 4
 },
 "nbformat": 4,
 "nbformat_minor": 2
}
