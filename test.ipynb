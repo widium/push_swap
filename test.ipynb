{
 "cells": [
  {
   "cell_type": "code",
   "execution_count": 101,
   "metadata": {},
   "outputs": [],
   "source": [
    "import numpy as np\n",
    "import math\n",
    "import matplotlib.pyplot as plt\n",
    "import subprocess\n",
    "import random\n",
    "import json\n",
    "from tqdm import tqdm\n",
    "import math"
   ]
  },
  {
   "cell_type": "code",
   "execution_count": 86,
   "metadata": {},
   "outputs": [
    {
     "name": "stderr",
     "output_type": "stream",
     "text": [
      "100%|██████████| 495/495 [29:24<00:00,  3.56s/it]\n"
     ]
    }
   ],
   "source": [
    "min = 0\n",
    "max = 1000\n",
    "data = list()\n",
    "mean_list = list()\n",
    "\n",
    "for pop in tqdm(range(5, 500)):\n",
    "    for i in range(1, 10):\n",
    "        value = list()\n",
    "        generate = random.sample(range(min, max), pop)\n",
    "\n",
    "        space = \"\"\n",
    "        for n in generate:\n",
    "            space = f\"{space} {n}\"\n",
    "        output =subprocess.check_output(f\"./push_swap {space} | wc -l\", shell=True)\n",
    "        value.append(output.decode('ascii').strip())\n",
    "    data = np.array(value, dtype='int64')\n",
    "    mean_list.append(data.mean())\n"
   ]
  },
  {
   "cell_type": "code",
   "execution_count": 91,
   "metadata": {},
   "outputs": [],
   "source": [
    "#np.savetxt(\"list.log\", mean_list, delimiter=\",\")\n",
    "with open(\"big_O.json\",\"w\") as f :\n",
    "    json.dump(mean_list, f,indent=2)"
   ]
  },
  {
   "cell_type": "code",
   "execution_count": 89,
   "metadata": {},
   "outputs": [
    {
     "data": {
      "text/plain": [
       "[<matplotlib.lines.Line2D at 0x7f0f7f3e32e0>]"
      ]
     },
     "execution_count": 89,
     "metadata": {},
     "output_type": "execute_result"
    },
    {
     "data": {
      "image/png": "[encoded data removed]",
      "text/plain": [
       "<Figure size 432x288 with 1 Axes>"
      ]
     },
     "metadata": {
      "needs_background": "light"
     },
     "output_type": "display_data"
    }
   ],
   "source": [
    "plt.plot(mean_list)"
   ]
  },
  {
   "cell_type": "code",
   "execution_count": 118,
   "metadata": {},
   "outputs": [],
   "source": [
    "constant_O = list()\n",
    "n_O = list()\n",
    "log_n_O = list()\n",
    "n_log_n_O = list()\n",
    "sqrt_n_O = list()\n",
    "n_power_O = list()\n",
    "n_power_n_O = list()\n",
    "\n",
    "for i in range(5, 500):\n",
    "    constant_O.append(60)\n",
    "\n",
    "for i in range(5, 500):\n",
    "    i += i\n",
    "    n_O.append(i)\n",
    "    \n",
    "for i in range(5, 500):\n",
    "    i = math.sqrt(i)\n",
    "    sqrt_n_O.append(i)\n",
    "    \n",
    "for i in range(5, 500):\n",
    "    i = i**4\n",
    "    n_power_O.append(i)\n",
    "\n",
    "for i in range(5, 500):\n",
    "    i = i**i\n",
    "    n_power_n_O.append(i)\n",
    "\n",
    "for i in range(5, 500):\n",
    "    i = i * math.log(i)\n",
    "    n_log_n_O.append(i)\n",
    "\n",
    "for i in range(5, 500):\n",
    "    i = math.log(i)\n",
    "    log_n_O.append(i)"
   ]
  },
  {
   "cell_type": "code",
   "execution_count": 120,
   "metadata": {},
   "outputs": [
    {
     "data": {
      "text/plain": [
       "[<matplotlib.lines.Line2D at 0x7f0f48e49fa0>]"
      ]
     },
     "execution_count": 120,
     "metadata": {},
     "output_type": "execute_result"
    },
    {
     "data": {
      "image/png": "[encoded data removed]",
      "text/plain": [
       "<Figure size 432x288 with 1 Axes>"
      ]
     },
     "metadata": {
      "needs_background": "light"
     },
     "output_type": "display_data"
    }
   ],
   "source": [
    "fig, ax = plt.subplots()\n",
    "ax.plot(constant_O)\n",
    "ax.plot(n_O)\n",
    "ax.plot(log_n_O)\n",
    "ax.plot(n_log_n_O)\n",
    "ax.plot(sqrt_n_O)\n",
    "ax.plot(n_power_O)\n",
    "# ax.plot(n_power_n_O)"
   ]
  },
  {
   "cell_type": "code",
   "execution_count": null,
   "metadata": {},
   "outputs": [],
   "source": []
  }
 ],
 "metadata": {
  "interpreter": {
   "hash": "6315a4a83cd9c0651c1847806ea4528007a9e25071dc41670372a3afb3757f99"
  },
  "kernelspec": {
   "display_name": "Python 3.8.0 ('tf_gpu')",
   "language": "python",
   "name": "python3"
  },
  "language_info": {
   "codemirror_mode": {
    "name": "ipython",
    "version": 3
   },
   "file_extension": ".py",
   "mimetype": "text/x-python",
   "name": "python",
   "nbconvert_exporter": "python",
   "pygments_lexer": "ipython3",
   "version": "3.8.0"
  },
  "orig_nbformat": 4
 },
 "nbformat": 4,
 "nbformat_minor": 2
}
